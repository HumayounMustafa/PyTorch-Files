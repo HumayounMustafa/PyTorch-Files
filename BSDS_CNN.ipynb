{
  "nbformat": 4,
  "nbformat_minor": 0,
  "metadata": {
    "colab": {
      "provenance": []
    },
    "kernelspec": {
      "name": "python3",
      "display_name": "Python 3"
    },
    "language_info": {
      "name": "python"
    }
  },
  "cells": [
    {
      "cell_type": "code",
      "execution_count": null,
      "metadata": {
        "id": "GdSms4FRdNNg"
      },
      "outputs": [],
      "source": [
        "import torch\n",
        "import torch.nn as nn"
      ]
    },
    {
      "cell_type": "code",
      "source": [
        "class Conv(nn.Module):\n",
        "  def __init__(self,inchannels,outchannels):\n",
        "    super().__init__()\n",
        "    self.conv=nn.Sequential(nn.Conv2d(in_channels=inchannels,out_channels=outchannels,kernel_size=3,stride=1),\n",
        "                            nn.BatchNorm2d(outchannels),\n",
        "                            nn.Conv2d(outchannels,outchannels,3),\n",
        "                            nn.MaxPool2d(2))\n",
        "  def forward(self,x):\n",
        "    return self.conv(x)\n"
      ],
      "metadata": {
        "id": "wNzpoy5hdUUU"
      },
      "execution_count": null,
      "outputs": []
    },
    {
      "cell_type": "code",
      "source": [
        "conv=Conv(1,64)\n",
        "test=torch.randn((1,1,572,572),dtype=torch.float32)\n",
        "output=conv(test)\n",
        "output.shape"
      ],
      "metadata": {
        "colab": {
          "base_uri": "https://localhost:8080/"
        },
        "id": "mvdwWDzgwk_g",
        "outputId": "107a938f-ce99-4f6b-bcd6-887c97b29644"
      },
      "execution_count": null,
      "outputs": [
        {
          "output_type": "execute_result",
          "data": {
            "text/plain": [
              "torch.Size([1, 64, 284, 284])"
            ]
          },
          "metadata": {},
          "execution_count": 42
        }
      ]
    },
    {
      "cell_type": "code",
      "source": [
        "conv2=Conv(64,128)\n",
        "output2=conv2(output)\n",
        "output2.shape"
      ],
      "metadata": {
        "colab": {
          "base_uri": "https://localhost:8080/"
        },
        "id": "op_e8rKPdmb7",
        "outputId": "109e1507-51f3-4006-fa72-c8f4b94e0d5d"
      },
      "execution_count": null,
      "outputs": [
        {
          "output_type": "execute_result",
          "data": {
            "text/plain": [
              "torch.Size([1, 128, 140, 140])"
            ]
          },
          "metadata": {},
          "execution_count": 43
        }
      ]
    },
    {
      "cell_type": "code",
      "source": [
        "test=torch.randn((1,3,500,500),dtype=torch.float32)"
      ],
      "metadata": {
        "id": "6Ait1oEAd3SF"
      },
      "execution_count": null,
      "outputs": []
    },
    {
      "cell_type": "code",
      "source": [
        "output=conv(test)"
      ],
      "metadata": {
        "id": "Nw19wRU0eHeS"
      },
      "execution_count": null,
      "outputs": []
    },
    {
      "cell_type": "code",
      "source": [
        "output.shape"
      ],
      "metadata": {
        "colab": {
          "base_uri": "https://localhost:8080/"
        },
        "id": "l8p3jXwheO4b",
        "outputId": "d0532a08-b115-4790-bd2f-7dd7ff6e4f8b"
      },
      "execution_count": null,
      "outputs": [
        {
          "output_type": "execute_result",
          "data": {
            "text/plain": [
              "torch.Size([1, 64, 498, 498])"
            ]
          },
          "metadata": {},
          "execution_count": 11
        }
      ]
    },
    {
      "cell_type": "code",
      "source": [
        "conv2=nn.Conv2d(in_channels=64,out_channels=128,kernel_size=5,stride=2)"
      ],
      "metadata": {
        "id": "X4psZEo3eQEn"
      },
      "execution_count": null,
      "outputs": []
    },
    {
      "cell_type": "code",
      "source": [
        "output2=conv2(output)"
      ],
      "metadata": {
        "id": "OX6AYmNgfQS7"
      },
      "execution_count": null,
      "outputs": []
    },
    {
      "cell_type": "code",
      "source": [
        "output2.shape"
      ],
      "metadata": {
        "colab": {
          "base_uri": "https://localhost:8080/"
        },
        "id": "WsUlF_3TfVif",
        "outputId": "1856eec4-9c34-4248-c13e-7a9d5a07a1a9"
      },
      "execution_count": null,
      "outputs": [
        {
          "output_type": "execute_result",
          "data": {
            "text/plain": [
              "torch.Size([1, 128, 247, 247])"
            ]
          },
          "metadata": {},
          "execution_count": 18
        }
      ]
    },
    {
      "cell_type": "code",
      "source": [
        "import torch\n",
        "import torch.nn as nn"
      ],
      "metadata": {
        "id": "ezh87FdvfZu1"
      },
      "execution_count": null,
      "outputs": []
    },
    {
      "cell_type": "code",
      "source": [
        "conv1=nn.Conv2d(in_channels=3,out_channels=64,kernel_size=7,stride=1)"
      ],
      "metadata": {
        "id": "YBw5RGD4uj_J"
      },
      "execution_count": null,
      "outputs": []
    },
    {
      "cell_type": "code",
      "source": [
        "test=torch.randn((1,3,500,500),dtype=torch.float32)"
      ],
      "metadata": {
        "id": "yox488hauvOV"
      },
      "execution_count": null,
      "outputs": []
    },
    {
      "cell_type": "code",
      "source": [
        "output=conv1(test)\n",
        "output.shape"
      ],
      "metadata": {
        "colab": {
          "base_uri": "https://localhost:8080/"
        },
        "id": "y8ORlzobu5pm",
        "outputId": "7676a1f3-8056-46f8-c15a-f569583693a0"
      },
      "execution_count": null,
      "outputs": [
        {
          "output_type": "execute_result",
          "data": {
            "text/plain": [
              "torch.Size([1, 64, 494, 494])"
            ]
          },
          "metadata": {},
          "execution_count": 28
        }
      ]
    },
    {
      "cell_type": "code",
      "source": [
        "conv2=nn.Conv2d(in_channels=64,out_channels=128,kernel_size=5,stride=2)"
      ],
      "metadata": {
        "id": "_zl96WblvB9n"
      },
      "execution_count": null,
      "outputs": []
    },
    {
      "cell_type": "code",
      "source": [
        "output2=conv2(output)\n",
        "output2.shape"
      ],
      "metadata": {
        "colab": {
          "base_uri": "https://localhost:8080/"
        },
        "id": "WJQgq4C1wGVd",
        "outputId": "53e75fd4-ee8e-4e37-c8a4-3e5e11ac65b4"
      },
      "execution_count": null,
      "outputs": [
        {
          "output_type": "execute_result",
          "data": {
            "text/plain": [
              "torch.Size([1, 128, 245, 245])"
            ]
          },
          "metadata": {},
          "execution_count": 31
        }
      ]
    },
    {
      "cell_type": "code",
      "source": [],
      "metadata": {
        "id": "hloVNZIYwKfM"
      },
      "execution_count": null,
      "outputs": []
    }
  ]
}