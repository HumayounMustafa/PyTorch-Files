{
  "nbformat": 4,
  "nbformat_minor": 0,
  "metadata": {
    "colab": {
      "provenance": [],
      "gpuType": "T4"
    },
    "kernelspec": {
      "name": "python3",
      "display_name": "Python 3"
    },
    "language_info": {
      "name": "python"
    },
    "accelerator": "GPU"
  },
  "cells": [
    {
      "cell_type": "code",
      "execution_count": null,
      "metadata": {
        "colab": {
          "base_uri": "https://localhost:8080/"
        },
        "id": "_AczRCzbE5HG",
        "outputId": "ae2e6c8e-ba6b-4f06-c320-d221e4364ea2"
      },
      "outputs": [
        {
          "metadata": {
            "tags": null
          },
          "name": "stdout",
          "output_type": "stream",
          "text": [
            "Logging to output/log.txt\n",
            "\n",
            "PyTorch version: 2.0.1+cu118\n",
            "CUDA version: 11.8\n",
            "\n",
            "Random Seed:  1\n",
            "Downloading http://yann.lecun.com/exdb/mnist/train-images-idx3-ubyte.gz\n",
            "Downloading http://yann.lecun.com/exdb/mnist/train-images-idx3-ubyte.gz to /media/john/FastData/CelebA/MNIST/raw/train-images-idx3-ubyte.gz\n"
          ]
        },
        {
          "metadata": {
            "tags": null
          },
          "name": "stderr",
          "output_type": "stream",
          "text": [
            "100%|██████████| 9912422/9912422 [00:00<00:00, 163997693.40it/s]"
          ]
        },
        {
          "metadata": {
            "tags": null
          },
          "name": "stdout",
          "output_type": "stream",
          "text": [
            "Extracting /media/john/FastData/CelebA/MNIST/raw/train-images-idx3-ubyte.gz to /media/john/FastData/CelebA/MNIST/raw\n"
          ]
        },
        {
          "metadata": {
            "tags": null
          },
          "name": "stderr",
          "output_type": "stream",
          "text": [
            "\n"
          ]
        },
        {
          "metadata": {
            "tags": null
          },
          "name": "stdout",
          "output_type": "stream",
          "text": [
            "\n",
            "Downloading http://yann.lecun.com/exdb/mnist/train-labels-idx1-ubyte.gz\n",
            "Downloading http://yann.lecun.com/exdb/mnist/train-labels-idx1-ubyte.gz to /media/john/FastData/CelebA/MNIST/raw/train-labels-idx1-ubyte.gz\n"
          ]
        },
        {
          "metadata": {
            "tags": null
          },
          "name": "stderr",
          "output_type": "stream",
          "text": [
            "100%|██████████| 28881/28881 [00:00<00:00, 16996729.88it/s]"
          ]
        },
        {
          "metadata": {
            "tags": null
          },
          "name": "stdout",
          "output_type": "stream",
          "text": [
            "Extracting /media/john/FastData/CelebA/MNIST/raw/train-labels-idx1-ubyte.gz to /media/john/FastData/CelebA/MNIST/raw\n",
            "\n",
            "Downloading http://yann.lecun.com/exdb/mnist/t10k-images-idx3-ubyte.gz\n",
            "Downloading http://yann.lecun.com/exdb/mnist/t10k-images-idx3-ubyte.gz to /media/john/FastData/CelebA/MNIST/raw/t10k-images-idx3-ubyte.gz\n"
          ]
        },
        {
          "metadata": {
            "tags": null
          },
          "name": "stderr",
          "output_type": "stream",
          "text": [
            "\n",
            "100%|██████████| 1648877/1648877 [00:00<00:00, 40188810.16it/s]"
          ]
        },
        {
          "metadata": {
            "tags": null
          },
          "name": "stdout",
          "output_type": "stream",
          "text": [
            "Extracting /media/john/FastData/CelebA/MNIST/raw/t10k-images-idx3-ubyte.gz to /media/john/FastData/CelebA/MNIST/raw\n"
          ]
        },
        {
          "metadata": {
            "tags": null
          },
          "name": "stderr",
          "output_type": "stream",
          "text": [
            "\n"
          ]
        },
        {
          "metadata": {
            "tags": null
          },
          "name": "stdout",
          "output_type": "stream",
          "text": [
            "\n",
            "Downloading http://yann.lecun.com/exdb/mnist/t10k-labels-idx1-ubyte.gz\n",
            "Downloading http://yann.lecun.com/exdb/mnist/t10k-labels-idx1-ubyte.gz to /media/john/FastData/CelebA/MNIST/raw/t10k-labels-idx1-ubyte.gz\n"
          ]
        },
        {
          "metadata": {
            "tags": null
          },
          "name": "stderr",
          "output_type": "stream",
          "text": [
            "100%|██████████| 4542/4542 [00:00<00:00, 20440481.51it/s]"
          ]
        },
        {
          "metadata": {
            "tags": null
          },
          "name": "stdout",
          "output_type": "stream",
          "text": [
            "Extracting /media/john/FastData/CelebA/MNIST/raw/t10k-labels-idx1-ubyte.gz to /media/john/FastData/CelebA/MNIST/raw\n",
            "\n"
          ]
        },
        {
          "metadata": {
            "tags": null
          },
          "name": "stderr",
          "output_type": "stream",
          "text": [
            "\n"
          ]
        },
        {
          "output_type": "stream",
          "name": "stdout",
          "text": [
            "Generator(\n",
            "  (main): Sequential(\n",
            "    (0): ConvTranspose2d(100, 512, kernel_size=(4, 4), stride=(1, 1), bias=False)\n",
            "    (1): BatchNorm2d(512, eps=1e-05, momentum=0.1, affine=True, track_running_stats=True)\n",
            "    (2): ReLU(inplace=True)\n",
            "    (3): ConvTranspose2d(512, 256, kernel_size=(4, 4), stride=(2, 2), padding=(1, 1), bias=False)\n",
            "    (4): BatchNorm2d(256, eps=1e-05, momentum=0.1, affine=True, track_running_stats=True)\n",
            "    (5): ReLU(inplace=True)\n",
            "    (6): ConvTranspose2d(256, 128, kernel_size=(4, 4), stride=(2, 2), padding=(1, 1), bias=False)\n",
            "    (7): BatchNorm2d(128, eps=1e-05, momentum=0.1, affine=True, track_running_stats=True)\n",
            "    (8): ReLU(inplace=True)\n",
            "    (9): ConvTranspose2d(128, 64, kernel_size=(4, 4), stride=(2, 2), padding=(1, 1), bias=False)\n",
            "    (10): BatchNorm2d(64, eps=1e-05, momentum=0.1, affine=True, track_running_stats=True)\n",
            "    (11): ReLU(inplace=True)\n",
            "    (12): ConvTranspose2d(64, 1, kernel_size=(4, 4), stride=(2, 2), padding=(1, 1), bias=False)\n",
            "    (13): Tanh()\n",
            "  )\n",
            ")\n",
            "Discriminator(\n",
            "  (main): Sequential(\n",
            "    (0): Conv2d(1, 64, kernel_size=(4, 4), stride=(2, 2), padding=(1, 1), bias=False)\n",
            "    (1): LeakyReLU(negative_slope=0.2, inplace=True)\n",
            "    (2): Conv2d(64, 128, kernel_size=(4, 4), stride=(2, 2), padding=(1, 1), bias=False)\n",
            "    (3): BatchNorm2d(128, eps=1e-05, momentum=0.1, affine=True, track_running_stats=True)\n",
            "    (4): LeakyReLU(negative_slope=0.2, inplace=True)\n",
            "    (5): Conv2d(128, 256, kernel_size=(4, 4), stride=(2, 2), padding=(1, 1), bias=False)\n",
            "    (6): BatchNorm2d(256, eps=1e-05, momentum=0.1, affine=True, track_running_stats=True)\n",
            "    (7): LeakyReLU(negative_slope=0.2, inplace=True)\n",
            "    (8): Conv2d(256, 512, kernel_size=(4, 4), stride=(2, 2), padding=(1, 1), bias=False)\n",
            "    (9): BatchNorm2d(512, eps=1e-05, momentum=0.1, affine=True, track_running_stats=True)\n",
            "    (10): LeakyReLU(negative_slope=0.2, inplace=True)\n",
            "    (11): Conv2d(512, 1, kernel_size=(4, 4), stride=(1, 1), bias=False)\n",
            "    (12): Sigmoid()\n",
            "  )\n",
            ")\n",
            "Epoch 0 [0/118] loss_D_real: 1.1193 loss_D_fake: 1.0719 loss_G: 2.5316\n",
            "Epoch 0 [100/118] loss_D_real: 0.0767 loss_D_fake: 0.0589 loss_G: 5.2727\n",
            "Epoch 1 [0/118] loss_D_real: 0.0635 loss_D_fake: 0.1237 loss_G: 6.8079\n",
            "Epoch 1 [100/118] loss_D_real: 0.2444 loss_D_fake: 0.0305 loss_G: 1.9089\n",
            "Epoch 2 [0/118] loss_D_real: 0.0714 loss_D_fake: 0.0481 loss_G: 4.3082\n",
            "Epoch 2 [100/118] loss_D_real: 0.0972 loss_D_fake: 1.0753 loss_G: 6.2446\n",
            "Epoch 3 [0/118] loss_D_real: 0.0772 loss_D_fake: 0.2546 loss_G: 4.6394\n",
            "Epoch 3 [100/118] loss_D_real: 0.1756 loss_D_fake: 0.4724 loss_G: 2.8309\n",
            "Epoch 4 [0/118] loss_D_real: 0.0793 loss_D_fake: 0.3133 loss_G: 3.3030\n",
            "Epoch 4 [100/118] loss_D_real: 0.6663 loss_D_fake: 0.0947 loss_G: 1.7355\n",
            "Epoch 5 [0/118] loss_D_real: 0.2424 loss_D_fake: 0.1209 loss_G: 1.7697\n",
            "Epoch 5 [100/118] loss_D_real: 0.0219 loss_D_fake: 1.0413 loss_G: 6.1246\n",
            "Epoch 6 [0/118] loss_D_real: 0.5041 loss_D_fake: 0.2822 loss_G: 1.5215\n",
            "Epoch 6 [100/118] loss_D_real: 0.1551 loss_D_fake: 0.3644 loss_G: 1.9286\n",
            "Epoch 7 [0/118] loss_D_real: 0.1881 loss_D_fake: 0.1485 loss_G: 2.2296\n",
            "Epoch 7 [100/118] loss_D_real: 0.6233 loss_D_fake: 0.1169 loss_G: 2.1550\n",
            "Epoch 8 [0/118] loss_D_real: 0.1248 loss_D_fake: 0.2286 loss_G: 2.3799\n",
            "Epoch 8 [100/118] loss_D_real: 0.2246 loss_D_fake: 0.2605 loss_G: 2.0052\n",
            "Epoch 9 [0/118] loss_D_real: 1.5332 loss_D_fake: 0.0334 loss_G: 0.5874\n",
            "Epoch 9 [100/118] loss_D_real: 1.3635 loss_D_fake: 0.0123 loss_G: 0.3062\n",
            "Epoch 10 [0/118] loss_D_real: 0.0499 loss_D_fake: 0.4308 loss_G: 4.0826\n",
            "Epoch 10 [100/118] loss_D_real: 0.4727 loss_D_fake: 0.0346 loss_G: 1.6683\n",
            "Epoch 11 [0/118] loss_D_real: 1.5169 loss_D_fake: 0.0050 loss_G: 1.6499\n",
            "Epoch 11 [100/118] loss_D_real: 0.0859 loss_D_fake: 0.1084 loss_G: 3.8034\n"
          ]
        }
      ],
      "source": [
        "import os\n",
        "import sys\n",
        "\n",
        "import numpy as np\n",
        "import torch\n",
        "import torch.nn as nn\n",
        "import torch.nn.parallel\n",
        "import torch.backends.cudnn as cudnn\n",
        "import torch.optim as optim\n",
        "import torch.utils.data\n",
        "import torchvision.datasets as dset\n",
        "import torchvision.transforms as transforms\n",
        "import torchvision.utils as vutils\n",
        "\n",
        "import utils\n",
        "\n",
        "\n",
        "CUDA = True     # Change to False for CPU training\n",
        "#DATA_PATH = '~/Data/mnist'\n",
        "DATA_PATH = '/media/john/FastData/CelebA'\n",
        "# DATA_PATH = '/media/john/FastData/lsun'\n",
        "OUT_PATH = 'output'\n",
        "LOG_FILE = os.path.join(OUT_PATH, 'log.txt')\n",
        "BATCH_SIZE = 512        # Adjust this value according to your GPU memory\n",
        "IMAGE_CHANNEL = 1\n",
        "# IMAGE_CHANNEL = 3\n",
        "Z_DIM = 100\n",
        "G_HIDDEN = 64\n",
        "X_DIM = 64\n",
        "D_HIDDEN = 64\n",
        "EPOCH_NUM = 12\n",
        "REAL_LABEL = 1\n",
        "FAKE_LABEL = 0\n",
        "lr = 2e-4\n",
        "seed = 1            # Change to None to get different results at each run\n",
        "\n",
        "utils.clear_folder(OUT_PATH)\n",
        "print(\"Logging to {}\\n\".format(LOG_FILE))\n",
        "sys.stdout = utils.StdOut(LOG_FILE)\n",
        "CUDA = CUDA and torch.cuda.is_available()\n",
        "print(\"PyTorch version: {}\".format(torch.__version__))\n",
        "if CUDA:\n",
        "    print(\"CUDA version: {}\\n\".format(torch.version.cuda))\n",
        "\n",
        "if seed is None:\n",
        "    seed = np.random.randint(1, 10000)\n",
        "print(\"Random Seed: \", seed)\n",
        "np.random.seed(seed)\n",
        "torch.manual_seed(seed)\n",
        "if CUDA:\n",
        "    torch.cuda.manual_seed(seed)\n",
        "cudnn.benchmark = True      # May train faster but cost more memory\n",
        "\n",
        "dataset = dset.MNIST(root=DATA_PATH, download=True,\n",
        "                      transform=transforms.Compose([\n",
        "                      transforms.Resize(X_DIM),\n",
        "                      transforms.ToTensor(),\n",
        "                      transforms.Normalize((0.5,), (0.5,))\n",
        "                      ]))\n",
        "#dataset = dset.ImageFolder(root=DATA_PATH,\n",
        "#                           transform=transforms.Compose([\n",
        "#                           transforms.Resize(X_DIM),\n",
        "#                           transforms.CenterCrop(X_DIM),\n",
        "#                           transforms.ToTensor(),\n",
        "#                           transforms.Normalize((0.5, 0.5, 0.5), (0.5, 0.5, 0.5)),\n",
        "#                           ]))\n",
        "# dataset = dset.LSUN(root=DATA_PATH, classes=['bedroom_train'],\n",
        "#                     transform=transforms.Compose([\n",
        "#                     transforms.Resize(X_DIM),\n",
        "#                     transforms.CenterCrop(X_DIM),\n",
        "#                     transforms.ToTensor(),\n",
        "#                     transforms.Normalize((0.5, 0.5, 0.5), (0.5, 0.5, 0.5)),\n",
        "#                     ]))\n",
        "\n",
        "assert dataset\n",
        "dataloader = torch.utils.data.DataLoader(dataset, batch_size=BATCH_SIZE,\n",
        "                                         shuffle=True, num_workers=2)\n",
        "\n",
        "device = torch.device(\"cuda:0\" if CUDA else \"cpu\")\n",
        "\n",
        "\n",
        "def weights_init(m):\n",
        "    \"\"\"custom weights initialization\n",
        "    \"\"\"\n",
        "    classname = m.__class__.__name__\n",
        "    if classname.find('Conv') != -1:\n",
        "        m.weight.data.normal_(0.0, 0.02)\n",
        "    elif classname.find('BatchNorm') != -1:\n",
        "        m.weight.data.normal_(1.0, 0.02)\n",
        "        m.bias.data.fill_(0)\n",
        "\n",
        "\n",
        "class Generator(nn.Module):\n",
        "    def __init__(self):\n",
        "        super(Generator, self).__init__()\n",
        "        self.main = nn.Sequential(\n",
        "            # 1st layer\n",
        "            nn.ConvTranspose2d(Z_DIM, G_HIDDEN * 8, 4, 1, 0, bias=False),\n",
        "            nn.BatchNorm2d(G_HIDDEN * 8),\n",
        "            nn.ReLU(True),\n",
        "            # 2nd layer\n",
        "            nn.ConvTranspose2d(G_HIDDEN * 8, G_HIDDEN * 4, 4, 2, 1, bias=False),\n",
        "            nn.BatchNorm2d(G_HIDDEN * 4),\n",
        "            nn.ReLU(True),\n",
        "            # 3rd layer\n",
        "            nn.ConvTranspose2d(G_HIDDEN * 4, G_HIDDEN * 2, 4, 2, 1, bias=False),\n",
        "            nn.BatchNorm2d(G_HIDDEN * 2),\n",
        "            nn.ReLU(True),\n",
        "            # 4th layer\n",
        "            nn.ConvTranspose2d(G_HIDDEN * 2, G_HIDDEN, 4, 2, 1, bias=False),\n",
        "            nn.BatchNorm2d(G_HIDDEN),\n",
        "            nn.ReLU(True),\n",
        "            # output layer\n",
        "            nn.ConvTranspose2d(G_HIDDEN, IMAGE_CHANNEL, 4, 2, 1, bias=False),\n",
        "            nn.Tanh()\n",
        "        )\n",
        "\n",
        "    def forward(self, input):\n",
        "        return self.main(input)\n",
        "\n",
        "\n",
        "class Discriminator(nn.Module):\n",
        "    def __init__(self):\n",
        "        super(Discriminator, self).__init__()\n",
        "        self.main = nn.Sequential(\n",
        "            # 1st layer\n",
        "            nn.Conv2d(IMAGE_CHANNEL, D_HIDDEN, 4, 2, 1, bias=False),\n",
        "            nn.LeakyReLU(0.2, inplace=True),\n",
        "            # 2nd layer\n",
        "            nn.Conv2d(D_HIDDEN, D_HIDDEN * 2, 4, 2, 1, bias=False),\n",
        "            nn.BatchNorm2d(D_HIDDEN * 2),\n",
        "            nn.LeakyReLU(0.2, inplace=True),\n",
        "            # 3rd layer\n",
        "            nn.Conv2d(D_HIDDEN * 2, D_HIDDEN * 4, 4, 2, 1, bias=False),\n",
        "            nn.BatchNorm2d(D_HIDDEN * 4),\n",
        "            nn.LeakyReLU(0.2, inplace=True),\n",
        "            # 4th layer\n",
        "            nn.Conv2d(D_HIDDEN * 4, D_HIDDEN * 8, 4, 2, 1, bias=False),\n",
        "            nn.BatchNorm2d(D_HIDDEN * 8),\n",
        "            nn.LeakyReLU(0.2, inplace=True),\n",
        "            # output layer\n",
        "            nn.Conv2d(D_HIDDEN * 8, 1, 4, 1, 0, bias=False),\n",
        "            nn.Sigmoid()\n",
        "        )\n",
        "\n",
        "    def forward(self, input):\n",
        "        return self.main(input).view(-1, 1).squeeze(1)\n",
        "\n",
        "\n",
        "netG = Generator().to(device)\n",
        "netG.apply(weights_init)\n",
        "print(netG)\n",
        "\n",
        "netD = Discriminator().to(device)\n",
        "netD.apply(weights_init)\n",
        "print(netD)\n",
        "\n",
        "criterion = nn.BCELoss()\n",
        "\n",
        "viz_noise = torch.randn(BATCH_SIZE, Z_DIM, 1, 1, device=device)\n",
        "\n",
        "optimizerD = optim.Adam(netD.parameters(), lr=lr, betas=(0.5, 0.999))\n",
        "optimizerG = optim.Adam(netG.parameters(), lr=lr, betas=(0.5, 0.999))\n",
        "\n",
        "for epoch in range(EPOCH_NUM):\n",
        "    for i, data in enumerate(dataloader):\n",
        "        x_real = data[0].to(device)\n",
        "        #print(\"The shape of data is \",data[0].shape)\n",
        "        #print(f\"X_Real size is  {x_real.size}\")\n",
        "        #print(f\"X_Real shape is  {x_real.shape}\")\n",
        "        real_label = torch.full((x_real.size(0),), REAL_LABEL, device=device,dtype=torch.float32)\n",
        "        fake_label = torch.full((x_real.size(0),), FAKE_LABEL, device=device,dtype=torch.float32)\n",
        "\n",
        "        # Update D with real data\n",
        "        netD.zero_grad()\n",
        "        y_real = netD(x_real)\n",
        "        loss_D_real = criterion(y_real, real_label)\n",
        "        loss_D_real.backward()\n",
        "\n",
        "        # Update D with fake data\n",
        "        z_noise = torch.randn(x_real.size(0), Z_DIM, 1, 1, device=device)\n",
        "        x_fake = netG(z_noise)\n",
        "        y_fake = netD(x_fake.detach())\n",
        "        loss_D_fake = criterion(y_fake, fake_label)\n",
        "        loss_D_fake.backward()\n",
        "        optimizerD.step()\n",
        "\n",
        "        # Update G with fake data\n",
        "        netG.zero_grad()\n",
        "        y_fake_r = netD(x_fake)\n",
        "        loss_G = criterion(y_fake_r, real_label)\n",
        "        loss_G.backward()\n",
        "        optimizerG.step()\n",
        "\n",
        "        if i % 100 == 0:\n",
        "            print('Epoch {} [{}/{}] loss_D_real: {:.4f} loss_D_fake: {:.4f} loss_G: {:.4f}'.format(\n",
        "                epoch, i, len(dataloader),\n",
        "                loss_D_real.mean().item(),\n",
        "                loss_D_fake.mean().item(),\n",
        "                loss_G.mean().item()\n",
        "            ))\n",
        "            vutils.save_image(x_real, os.path.join(OUT_PATH, 'real_samples{}.png'.format(epoch)), normalize=True)\n",
        "            with torch.no_grad():\n",
        "                viz_sample = netG(viz_noise)\n",
        "                vutils.save_image(viz_sample, os.path.join(OUT_PATH, 'fake_samples_{}.png'.format(epoch)), normalize=True)\n",
        "    torch.save(netG.state_dict(), os.path.join(OUT_PATH, 'netG_{}.pth'.format(epoch)))\n",
        "    torch.save(netD.state_dict(), os.path.join(OUT_PATH, 'netD_{}.pth'.format(epoch)))"
      ]
    },
    {
      "cell_type": "code",
      "source": [
        "import os\n",
        "import sys\n",
        "\n",
        "import numpy as np\n",
        "import torch\n",
        "import torch.nn as nn\n",
        "import torch.nn.parallel\n",
        "import torch.backends.cudnn as cudnn\n",
        "import torch.optim as optim\n",
        "import torch.utils.data\n",
        "import torchvision.datasets as dset\n",
        "import torchvision.transforms as transforms\n",
        "import torchvision.utils as vutils\n",
        "\n",
        "IMAGE_CHANNEL = 1\n",
        "# IMAGE_CHANNEL = 3\n",
        "Z_DIM = 100\n",
        "G_HIDDEN = 64\n",
        "X_DIM = 64\n",
        "D_HIDDEN = 64\n",
        "EPOCH_NUM = 12\n",
        "REAL_LABEL = 1\n",
        "FAKE_LABEL = 0\n",
        "lr = 2e-4\n",
        "seed = 1\n",
        "BATCH_SIZE = 512        # Adjust this value according to your GPU memory"
      ],
      "metadata": {
        "id": "_XZqhDNbKW8y"
      },
      "execution_count": null,
      "outputs": []
    },
    {
      "cell_type": "code",
      "source": [
        "viz_noise = torch.randn(BATCH_SIZE, Z_DIM, 1, 1)\n",
        "viz_noise.shape"
      ],
      "metadata": {
        "id": "InvDsqnOXemC",
        "colab": {
          "base_uri": "https://localhost:8080/"
        },
        "outputId": "e0085acc-f5e2-4de7-8cad-f1418be25e0a"
      },
      "execution_count": null,
      "outputs": [
        {
          "output_type": "execute_result",
          "data": {
            "text/plain": [
              "torch.Size([512, 100, 1, 1])"
            ]
          },
          "metadata": {},
          "execution_count": 8
        }
      ]
    },
    {
      "cell_type": "code",
      "source": [
        "real_label = torch.full((x_real.size(0),), REAL_LABEL, device=device,dtype=torch.float32)\n",
        "fake_label = torch.full((x_real.size(0),), FAKE_LABEL, device=device,dtype=torch.float32)\n"
      ],
      "metadata": {
        "id": "cXC_cNbvDWiD"
      },
      "execution_count": null,
      "outputs": []
    },
    {
      "cell_type": "code",
      "source": [
        "fake_label.shape"
      ],
      "metadata": {
        "colab": {
          "base_uri": "https://localhost:8080/"
        },
        "id": "E6RPzk3nFG5i",
        "outputId": "7294f9ca-2578-4943-848e-57ec7d7a642b"
      },
      "execution_count": null,
      "outputs": [
        {
          "output_type": "execute_result",
          "data": {
            "text/plain": [
              "torch.Size([512])"
            ]
          },
          "metadata": {},
          "execution_count": 28
        }
      ]
    },
    {
      "cell_type": "code",
      "source": [
        "data[1]"
      ],
      "metadata": {
        "colab": {
          "base_uri": "https://localhost:8080/"
        },
        "id": "78s2EV1XFOFY",
        "outputId": "92c995cb-a6a4-42a5-9555-15152c04fe89"
      },
      "execution_count": null,
      "outputs": [
        {
          "output_type": "execute_result",
          "data": {
            "text/plain": [
              "tensor([6, 2, 6, 7, 1, 4, 6, 3, 0, 6, 2, 4, 4, 0, 8, 5, 5, 1, 7, 4, 5, 9, 9, 7,\n",
              "        2, 8, 1, 6, 2, 3, 2, 5, 9, 3, 7, 3, 9, 4, 5, 3, 1, 2, 6, 7, 5, 0, 9, 7,\n",
              "        1, 1, 2, 3, 3, 1, 8, 0, 6, 8, 0, 9, 7, 2, 9, 8, 2, 4, 6, 7, 5, 9, 2, 5,\n",
              "        9, 2, 6, 6, 0, 8, 1, 3, 8, 5, 8, 1, 2, 6, 3, 3, 1, 1, 6, 5, 0, 6, 9, 9,\n",
              "        3, 9, 7, 2, 5, 6, 7, 8, 8, 6, 4, 8, 9, 6, 4, 9, 8, 8, 4, 3, 6, 7, 6, 9,\n",
              "        1, 4, 1, 5, 3, 8, 1, 8, 3, 7, 7, 4, 8, 1, 8, 0, 8, 8, 3, 4, 2, 0, 2, 8,\n",
              "        7, 8, 7, 3, 6, 4, 9, 0, 4, 7, 4, 8, 7, 1, 0, 3, 2, 0, 6, 4, 7, 3, 3, 3,\n",
              "        8, 1, 7, 1, 0, 6, 7, 5, 4, 7, 7, 0, 5, 1, 1, 2, 0, 4, 5, 7, 9, 5, 6, 1,\n",
              "        5, 5, 5, 2, 1, 8, 6, 4, 7, 5, 3, 8, 5, 6, 0, 4, 7, 3, 1, 7, 4, 7, 4, 0,\n",
              "        2, 8, 3, 1, 5, 3, 5, 1, 1, 8, 1, 6, 5, 1, 1, 5, 3, 3, 5, 1, 9, 2, 7, 4,\n",
              "        4, 6, 7, 0, 9, 6, 8, 2, 4, 8, 9, 9, 0, 3, 0, 4, 2, 4, 3, 7, 9, 7, 9, 2,\n",
              "        1, 1, 3, 3, 4, 9, 6, 1, 8, 5, 3, 7, 1, 5, 3, 9, 2, 8, 1, 4, 8, 8, 0, 2,\n",
              "        6, 1, 8, 2, 8, 7, 1, 9, 8, 6, 0, 8, 9, 9, 5, 0, 4, 7, 8, 0, 3, 1, 7, 8,\n",
              "        1, 0, 0, 4, 7, 1, 1, 2, 3, 5, 0, 5, 2, 0, 1, 4, 6, 3, 4, 0, 4, 1, 3, 6,\n",
              "        6, 5, 8, 3, 8, 6, 6, 6, 6, 7, 3, 4, 3, 7, 3, 3, 7, 2, 9, 0, 0, 8, 9, 3,\n",
              "        5, 9, 7, 7, 6, 0, 9, 1, 2, 7, 6, 5, 9, 8, 7, 3, 1, 2, 9, 2, 9, 8, 0, 0,\n",
              "        8, 1, 4, 0, 1, 8, 2, 3, 0, 7, 7, 3, 3, 6, 0, 3, 7, 5, 7, 1, 1, 4, 4, 2,\n",
              "        0, 8, 6, 2, 3, 8, 6, 1, 3, 2, 4, 7, 7, 6, 8, 0, 0, 2, 0, 5, 0, 7, 9, 8,\n",
              "        9, 8, 0, 1, 9, 5, 3, 6, 1, 6, 8, 1, 9, 5, 2, 1, 7, 3, 4, 9, 4, 4, 7, 6,\n",
              "        3, 4, 6, 2, 5, 1, 8, 8, 5, 9, 3, 5, 1, 9, 7, 5, 7, 8, 4, 0, 9, 0, 9, 3,\n",
              "        9, 5, 7, 2, 8, 8, 2, 5, 9, 7, 1, 8, 0, 9, 1, 5, 2, 1, 0, 0, 3, 3, 5, 1,\n",
              "        7, 7, 9, 4, 4, 3, 6, 3])"
            ]
          },
          "metadata": {},
          "execution_count": 23
        }
      ]
    },
    {
      "cell_type": "code",
      "source": [
        "z_noise = torch.randn(x_real.size(0), Z_DIM, 1, 1, device=device)\n",
        "z_noise.shape"
      ],
      "metadata": {
        "colab": {
          "base_uri": "https://localhost:8080/"
        },
        "id": "5BMfagK9FWhv",
        "outputId": "3d7e6fce-a087-4732-af3f-e80ad60aa307"
      },
      "execution_count": null,
      "outputs": [
        {
          "output_type": "execute_result",
          "data": {
            "text/plain": [
              "torch.Size([512, 100, 1, 1])"
            ]
          },
          "metadata": {},
          "execution_count": 30
        }
      ]
    },
    {
      "cell_type": "code",
      "source": [],
      "metadata": {
        "id": "c5ZdSTLDH3Go"
      },
      "execution_count": null,
      "outputs": []
    }
  ]
}